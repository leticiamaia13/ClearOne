{
  "nbformat": 4,
  "nbformat_minor": 0,
  "metadata": {
    "colab": {
      "provenance": []
    },
    "kernelspec": {
      "name": "python3",
      "display_name": "Python 3"
    },
    "language_info": {
      "name": "python"
    }
  },
  "cells": [
    {
      "cell_type": "markdown",
      "source": [
        "# Exercício 1"
      ],
      "metadata": {
        "id": "b1yuYFHAHXm7"
      }
    },
    {
      "cell_type": "markdown",
      "source": [
        "Faça um programa que escreva o seu nome completo em python"
      ],
      "metadata": {
        "id": "z2uzPhEJHcqk"
      }
    },
    {
      "cell_type": "code",
      "execution_count": 1,
      "metadata": {
        "colab": {
          "base_uri": "https://localhost:8080/"
        },
        "id": "1GlBu_O4Evmy",
        "outputId": "529f4e4e-ee88-4aa9-d520-ec06872e0bf5"
      },
      "outputs": [
        {
          "output_type": "stream",
          "name": "stdout",
          "text": [
            "Digite seu nome completo: Matheus Silva Teodoro\n",
            "Seu nome completo é: Matheus Silva Teodoro\n"
          ]
        }
      ],
      "source": [
        "# Linha para pedir ao usuário digitar o nome completo\n",
        "nome_completo = input(\"Digite seu nome completo: \")\n",
        "\n",
        "# print para mostrar na tela\n",
        "print(\"Seu nome completo é:\", nome_completo)"
      ]
    },
    {
      "cell_type": "markdown",
      "source": [
        "# Exercício 2"
      ],
      "metadata": {
        "id": "0VLekM4BJBLi"
      }
    },
    {
      "cell_type": "markdown",
      "source": [
        "Qual é o tipo de dado (int ou float) do resultado de cada uma das operações\n",
        "matemáticas abaixo?"
      ],
      "metadata": {
        "id": "RHzyJMz2JEeF"
      }
    },
    {
      "cell_type": "markdown",
      "source": [
        "a. 8 ÷ 4 + 2 × 3\n",
        "\n",
        "b. 15 - 4 × 2 + 10\n",
        "\n",
        "c. (10 - 3) × (5 + 2)\n",
        "\n",
        "d. 100 ÷ (5 + 5)\n",
        "\n",
        "e. 2^3 + 4\n",
        "\n",
        "f. 7 + 3 × (10 ÷ 2)\n",
        "\n",
        "g. (8 + 2) × 3 - 5\n",
        "\n",
        "h. 50 ÷ 5 + √16\n",
        "\n",
        "i. 5 + √25 × 2 - 3\n",
        "\n",
        "j. 20 - 4 × (√9 + 1)"
      ],
      "metadata": {
        "id": "HLVQ3K0BJIem"
      }
    },
    {
      "cell_type": "markdown",
      "source": [
        " a = float\n",
        "\n",
        " b = int\n",
        "\n",
        " c = int\n",
        "\n",
        " d = float\n",
        "\n",
        " e = int\n",
        "\n",
        " f = float\n",
        "\n",
        " g = int\n",
        "\n",
        " h = float\n",
        "\n",
        " i = float\n",
        "\n",
        " j = float"
      ],
      "metadata": {
        "id": "OemMHpUKJHw0"
      }
    },
    {
      "cell_type": "markdown",
      "source": [
        "# Exercício 3"
      ],
      "metadata": {
        "id": "x-Bw5DUBKN4V"
      }
    },
    {
      "cell_type": "markdown",
      "source": [
        "Qual é o resultado das expressões do exercício 2 quando executadas no\n",
        "Python?"
      ],
      "metadata": {
        "id": "YTnthYOmKQhR"
      }
    },
    {
      "cell_type": "code",
      "source": [
        "\n",
        "import math  # Usando a biblioteca math que tem := esse operador que printa e calcula\n",
        "\n",
        "print(\"a.\", result_a := 8 / 4 + 2 * 3, \"->\", type(result_a).__name__)\n",
        "print(\"b.\", result_b := 15 - 4 * 2 + 10, \"->\", type(result_b).__name__)\n",
        "print(\"c.\", result_c := (10 - 3) * (5 + 2), \"->\", type(result_c).__name__)\n",
        "print(\"d.\", result_d := 100 / (5 + 5), \"->\", type(result_d).__name__)\n",
        "print(\"e.\", result_e := 2**3 + 4, \"->\", type(result_e).__name__)\n",
        "print(\"f.\", result_f := 7 + 3 * (10 / 2), \"->\", type(result_f).__name__)\n",
        "print(\"g.\", result_g := (8 + 2) * 3 - 5, \"->\", type(result_g).__name__)\n",
        "print(\"h.\", result_h := 50 / 5 + math.sqrt(16), \"->\", type(result_h).__name__)\n",
        "print(\"i.\", result_i := 5 + math.sqrt(25) * 2 - 3, \"->\", type(result_i).__name__)\n",
        "print(\"j.\", result_j := 20 - 4 * (math.sqrt(9) + 1), \"->\", type(result_j).__name__)\n"
      ],
      "metadata": {
        "colab": {
          "base_uri": "https://localhost:8080/"
        },
        "id": "80OeVx09JD59",
        "outputId": "fbb36f34-4d91-4ca2-c8ed-50a73c8cdad8"
      },
      "execution_count": 3,
      "outputs": [
        {
          "output_type": "stream",
          "name": "stdout",
          "text": [
            "a. 8.0 -> float\n",
            "b. 17 -> int\n",
            "c. 49 -> int\n",
            "d. 10.0 -> float\n",
            "e. 12 -> int\n",
            "f. 22.0 -> float\n",
            "g. 25 -> int\n",
            "h. 14.0 -> float\n",
            "i. 12.0 -> float\n",
            "j. 4.0 -> float\n"
          ]
        }
      ]
    },
    {
      "cell_type": "markdown",
      "source": [
        "#Exercício 4"
      ],
      "metadata": {
        "id": "Sx-U8OGRTCCU"
      }
    },
    {
      "cell_type": "markdown",
      "source": [
        "Crie três variáveis para armazenar as seguintes informações: seu nome, sua\n",
        "idade e seu hobby favorito.\n",
        "\n",
        "Use f-strings para criar uma mensagem que inclua as três variáveis e\n",
        "imprima a mensagem no console."
      ],
      "metadata": {
        "id": "ezztolmDTFH0"
      }
    },
    {
      "cell_type": "code",
      "source": [
        "# Criando as variáveis\n",
        "nome = \"Xarola\"\n",
        "idade = 25\n",
        "hobby = \"Jogar Valorant\"\n",
        "\n",
        "# Criando a mensagem com f-string\n",
        "mensagem = f\"Olá! Meu nome é {nome}, tenho {idade} anos e meu hobby favorito é {hobby}.\"\n",
        "\n",
        "# Imprimindo a mensagem\n",
        "print(mensagem)\n"
      ],
      "metadata": {
        "colab": {
          "base_uri": "https://localhost:8080/"
        },
        "id": "E15EWuRYTIfM",
        "outputId": "a31e834c-1e3c-4f1c-ace3-8676a79fe240"
      },
      "execution_count": 4,
      "outputs": [
        {
          "output_type": "stream",
          "name": "stdout",
          "text": [
            "Olá! Meu nome é Xarola, tenho 25 anos e meu hobby favorito é Jogar Valorant.\n"
          ]
        }
      ]
    },
    {
      "cell_type": "markdown",
      "source": [
        "#Exercício 5"
      ],
      "metadata": {
        "id": "Bm_4jHPcThqC"
      }
    },
    {
      "cell_type": "markdown",
      "source": [
        "Você está trabalhando em um sistema para calcular o salário de um\n",
        "funcionário baseado em algumas variáveis, como o salário base, o bônus e\n",
        "os descontos.\n",
        "\n",
        "O código foi feito por outra pessoa e está apresentando um\n",
        "erro.\n",
        "\n",
        "Execute o código, identifique o erro e corrija-o.\n",
        "\n",
        "Justifique a sua\n",
        "correção com um comentário # acima do que foi corrigido."
      ],
      "metadata": {
        "id": "VZG08il7TjlW"
      }
    },
    {
      "cell_type": "code",
      "source": [
        "salario_base = 3500.00\n",
        "bonus = 500.00\n",
        "Descontos = 300.00\n",
        "\n",
        "salario_liquido = salario_base + bonus - descontos #nome 'descontos' não está definido porque antes Desconto com D maiusculo e chamamos aqui com d minúsculo\n",
        "\n",
        "print(f\"O salário líquido é {salario_liquido}.\")"
      ],
      "metadata": {
        "colab": {
          "base_uri": "https://localhost:8080/"
        },
        "id": "tcnzhsxhTyKv",
        "outputId": "deb81d56-516a-4067-a347-6c4601d4705c"
      },
      "execution_count": 8,
      "outputs": [
        {
          "output_type": "stream",
          "name": "stdout",
          "text": [
            "O salário líquido é 3700.0.\n"
          ]
        }
      ]
    },
    {
      "cell_type": "markdown",
      "source": [
        "# Exercício 6"
      ],
      "metadata": {
        "id": "2AMeZ5a_Ur_d"
      }
    },
    {
      "cell_type": "markdown",
      "source": [
        "Suponha que uma empresa tem um código de produto no formato PROD-XXXX, onde XXXX são dígitos de 0 a 9, e ela deseja verificar se os códigos\n",
        "segue o formato correto.\n",
        "\n",
        "Por exemplo, PROD-1234 é válido, mas prod-1234 e PROD1234 não são.\n",
        "\n",
        "Faça um programa que retorne se o código prod0000 é válido ou não,\n",
        "justificando sua resposta."
      ],
      "metadata": {
        "id": "d7GVtNMUUumf"
      }
    },
    {
      "cell_type": "code",
      "source": [
        "# Código a ser verificado\n",
        "codigo = \"prod0000\"\n",
        "\n",
        "# Verificação se:\n",
        "if (\n",
        "    len(codigo) == 9 and                     # 1. Deve ter exatamente 9 caracteres\n",
        "    codigo.startswith(\"PROD-\") and           # 2. Deve começar com \"PROD-\"\n",
        "    codigo[5:].isdigit()                     # 3. Os 4 últimos caracteres devem ser dígitos\n",
        "):\n",
        "    print(f\"O código '{codigo}' é VÁLIDO.\")\n",
        "else:\n",
        "    print(f\"O código '{codigo}' é INVÁLIDO. Deve estar no formato 'PROD-1234', com letras maiúsculas e um hífen.\")\n"
      ],
      "metadata": {
        "colab": {
          "base_uri": "https://localhost:8080/"
        },
        "id": "7hxILnMAUysh",
        "outputId": "73d1a29e-67c5-487b-9221-9132072a7368"
      },
      "execution_count": 9,
      "outputs": [
        {
          "output_type": "stream",
          "name": "stdout",
          "text": [
            "O código 'prod0000' é INVÁLIDO. Deve estar no formato 'PROD-1234', com letras maiúsculas e um hífen.\n"
          ]
        }
      ]
    },
    {
      "cell_type": "markdown",
      "source": [
        "# Exercício 7"
      ],
      "metadata": {
        "id": "Xrmbk3SCWPiJ"
      }
    },
    {
      "cell_type": "markdown",
      "source": [
        "Você trabalha para o Detran/SP e recebeu uma tarefa de separar as partes\n",
        "(letras e números) de uma determinada placa de veículo no modelo antigo.\n",
        "\n",
        "Faça um código que automatize essa separação.\n",
        "Use a placa ABC-1234 como exemplo."
      ],
      "metadata": {
        "id": "IDc5oFiOWRvm"
      }
    },
    {
      "cell_type": "code",
      "source": [
        "placa = \"ABC-1234\"\n",
        "\n",
        "letras, numeros = placa.split(\"-\")#usando separador o hífen (-)\n",
        "\n",
        "print(\"Letras:\", letras)\n",
        "print(\"Números:\", numeros)\n"
      ],
      "metadata": {
        "colab": {
          "base_uri": "https://localhost:8080/"
        },
        "id": "-OZhTLsXWbX1",
        "outputId": "9398e136-18ab-4ecd-abb6-a2819e35a385"
      },
      "execution_count": 10,
      "outputs": [
        {
          "output_type": "stream",
          "name": "stdout",
          "text": [
            "Letras: ABC\n",
            "Números: 1234\n"
          ]
        }
      ]
    }
  ]
}